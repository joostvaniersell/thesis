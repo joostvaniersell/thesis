{
 "cells": [
  {
   "cell_type": "code",
   "execution_count": 2,
   "metadata": {
    "collapsed": true,
    "pycharm": {
     "name": "#%%\n"
    }
   },
   "outputs": [],
   "source": [
    "import pandas as pd\n",
    "import numpy as np\n",
    "import networkx as nx\n",
    "import gc\n",
    "import pandas as pd\n",
    "import numpy as np\n",
    "from tqdm import tqdm_notebook\n",
    "import ast"
   ]
  },
  {
   "cell_type": "code",
   "execution_count": 3,
   "metadata": {
    "pycharm": {
     "name": "#%%\n"
    }
   },
   "outputs": [],
   "source": [
    "df = pd.read_csv(\"../data/olddata/dataset_milvus_server.csv\")        # #converters={'Name': pd.eval, 'Dist': pd.eval}\n",
    "df2 = pd.read_csv(\"../data/olddata/dataset_milvus_server_2.csv\")\n",
    "\n",
    "cc =  pd.read_csv(\"../data/creditcard.csv\")\n",
    "cc.Time = np.floor(cc['Time'] / (60*60))"
   ]
  },
  {
   "cell_type": "code",
   "execution_count": 4,
   "metadata": {
    "pycharm": {
     "name": "#%%\n"
    }
   },
   "outputs": [
    {
     "ename": "NameError",
     "evalue": "name 'cc' is not defined",
     "output_type": "error",
     "traceback": [
      "\u001b[1;31m---------------------------------------------------------------------------\u001b[0m",
      "\u001b[1;31mNameError\u001b[0m                                 Traceback (most recent call last)",
      "Input \u001b[1;32mIn [4]\u001b[0m, in \u001b[0;36m<cell line: 7>\u001b[1;34m()\u001b[0m\n\u001b[0;32m      5\u001b[0m df_full \u001b[38;5;241m=\u001b[39m df_full\u001b[38;5;241m.\u001b[39mreset_index(drop \u001b[38;5;241m=\u001b[39m \u001b[38;5;28;01mTrue\u001b[39;00m)\n\u001b[0;32m      6\u001b[0m df_full[\u001b[38;5;124m'\u001b[39m\u001b[38;5;124mID\u001b[39m\u001b[38;5;124m'\u001b[39m] \u001b[38;5;241m=\u001b[39m df_full\u001b[38;5;241m.\u001b[39mindex\n\u001b[1;32m----> 7\u001b[0m df_full[\u001b[38;5;124m'\u001b[39m\u001b[38;5;124mtime\u001b[39m\u001b[38;5;124m'\u001b[39m] \u001b[38;5;241m=\u001b[39m \u001b[43mcc\u001b[49m[\u001b[38;5;124m'\u001b[39m\u001b[38;5;124mTime\u001b[39m\u001b[38;5;124m'\u001b[39m]\n\u001b[0;32m      8\u001b[0m df_full[\u001b[38;5;124m'\u001b[39m\u001b[38;5;124mclass\u001b[39m\u001b[38;5;124m'\u001b[39m] \u001b[38;5;241m=\u001b[39m cc[\u001b[38;5;124m'\u001b[39m\u001b[38;5;124mClass\u001b[39m\u001b[38;5;124m'\u001b[39m]\n\u001b[0;32m      9\u001b[0m df_full\u001b[38;5;241m.\u001b[39mhead()\n",
      "\u001b[1;31mNameError\u001b[0m: name 'cc' is not defined"
     ]
    }
   ],
   "source": [
    "#prepare data\n",
    "#df_full = pd.concat([df, df2])\n",
    "df_full = pd.read_csv('../data/ivfflat_server.csv')\n",
    "df_full = df_full.drop(columns = 'Unnamed: 0')\n",
    "df_full = df_full.reset_index(drop = True)\n",
    "df_full['ID'] = df_full.index\n",
    "df_full['time'] = cc['Time']\n",
    "df_full['class'] = cc['Class']\n",
    "df_full.head()"
   ]
  },
  {
   "cell_type": "code",
   "execution_count": 13,
   "metadata": {
    "pycharm": {
     "name": "#%%\n"
    }
   },
   "outputs": [
    {
     "data": {
      "text/html": [
       "<div>\n",
       "<style scoped>\n",
       "    .dataframe tbody tr th:only-of-type {\n",
       "        vertical-align: middle;\n",
       "    }\n",
       "\n",
       "    .dataframe tbody tr th {\n",
       "        vertical-align: top;\n",
       "    }\n",
       "\n",
       "    .dataframe thead th {\n",
       "        text-align: right;\n",
       "    }\n",
       "</style>\n",
       "<table border=\"1\" class=\"dataframe\">\n",
       "  <thead>\n",
       "    <tr style=\"text-align: right;\">\n",
       "      <th></th>\n",
       "      <th>name_50</th>\n",
       "      <th>dist_50</th>\n",
       "      <th>ID</th>\n",
       "      <th>time</th>\n",
       "      <th>class</th>\n",
       "    </tr>\n",
       "  </thead>\n",
       "  <tbody>\n",
       "    <tr>\n",
       "      <th>0</th>\n",
       "      <td>[0, 857, 806, 3009, 867, 562, 3897, 333, 3134,...</td>\n",
       "      <td>[0.0, 5.024761199951172, 5.091703414916992, 5....</td>\n",
       "      <td>0</td>\n",
       "      <td>0.0</td>\n",
       "      <td>0</td>\n",
       "    </tr>\n",
       "    <tr>\n",
       "      <th>1</th>\n",
       "      <td>[1, 3906, 3486, 233, 1925, 59, 916, 3709, 209,...</td>\n",
       "      <td>[0.0, 0.09048068523406982, 0.39853206276893616...</td>\n",
       "      <td>1</td>\n",
       "      <td>0.0</td>\n",
       "      <td>0</td>\n",
       "    </tr>\n",
       "    <tr>\n",
       "      <th>2</th>\n",
       "      <td>[2, 637, 3272, 282, 2662, 2941, 1078, 432, 135...</td>\n",
       "      <td>[0.0, 9.276524543762207, 20.352218627929688, 2...</td>\n",
       "      <td>2</td>\n",
       "      <td>0.0</td>\n",
       "      <td>0</td>\n",
       "    </tr>\n",
       "    <tr>\n",
       "      <th>3</th>\n",
       "      <td>[3, 2401, 1208, 2606, 909, 3958, 2600, 681, 92...</td>\n",
       "      <td>[0.0, 10.868375778198242, 11.147619247436523, ...</td>\n",
       "      <td>3</td>\n",
       "      <td>0.0</td>\n",
       "      <td>0</td>\n",
       "    </tr>\n",
       "    <tr>\n",
       "      <th>4</th>\n",
       "      <td>[4, 438, 2311, 451, 2232, 3611, 3788, 3543, 27...</td>\n",
       "      <td>[0.0, 6.942203998565674, 7.0528130531311035, 7...</td>\n",
       "      <td>4</td>\n",
       "      <td>0.0</td>\n",
       "      <td>0</td>\n",
       "    </tr>\n",
       "  </tbody>\n",
       "</table>\n",
       "</div>"
      ],
      "text/plain": [
       "                                             name_50  \\\n",
       "0  [0, 857, 806, 3009, 867, 562, 3897, 333, 3134,...   \n",
       "1  [1, 3906, 3486, 233, 1925, 59, 916, 3709, 209,...   \n",
       "2  [2, 637, 3272, 282, 2662, 2941, 1078, 432, 135...   \n",
       "3  [3, 2401, 1208, 2606, 909, 3958, 2600, 681, 92...   \n",
       "4  [4, 438, 2311, 451, 2232, 3611, 3788, 3543, 27...   \n",
       "\n",
       "                                             dist_50  ID  time  class  \n",
       "0  [0.0, 5.024761199951172, 5.091703414916992, 5....   0   0.0      0  \n",
       "1  [0.0, 0.09048068523406982, 0.39853206276893616...   1   0.0      0  \n",
       "2  [0.0, 9.276524543762207, 20.352218627929688, 2...   2   0.0      0  \n",
       "3  [0.0, 10.868375778198242, 11.147619247436523, ...   3   0.0      0  \n",
       "4  [0.0, 6.942203998565674, 7.0528130531311035, 7...   4   0.0      0  "
      ]
     },
     "execution_count": 13,
     "metadata": {},
     "output_type": "execute_result"
    }
   ],
   "source": [
    "df_full.head()"
   ]
  },
  {
   "cell_type": "code",
   "execution_count": 15,
   "metadata": {
    "pycharm": {
     "name": "#%%\n"
    }
   },
   "outputs": [],
   "source": [
    "import ast\n",
    "#make sure python recognizes the lists\n",
    "df_full['name_50'] = df_full['name_50'].apply(lambda x: ast.literal_eval(x))\n",
    "df_full['dist_50'] = df_full['dist_50'].apply(lambda x: ast.literal_eval(x))"
   ]
  },
  {
   "cell_type": "code",
   "execution_count": 17,
   "metadata": {
    "pycharm": {
     "name": "#%%\n"
    }
   },
   "outputs": [
    {
     "name": "stderr",
     "output_type": "stream",
     "text": [
      "C:\\Users\\joost\\AppData\\Local\\Temp\\ipykernel_15892\\693561405.py:10: TqdmDeprecationWarning: This function will be removed in tqdm==5.0.0\n",
      "Please use `tqdm.notebook.tqdm` instead of `tqdm.tqdm_notebook`\n",
      "  for i in tqdm_notebook(range(0,  int(max(df_full['ID'])+1))):\n"
     ]
    },
    {
     "data": {
      "application/vnd.jupyter.widget-view+json": {
       "model_id": "fcadfc8a4fbc45cdad324ca29a0b78fd",
       "version_major": 2,
       "version_minor": 0
      },
      "text/plain": [
       "  0%|          | 0/284807 [00:00<?, ?it/s]"
      ]
     },
     "metadata": {},
     "output_type": "display_data"
    }
   ],
   "source": [
    "#unpack lists into an edgelist\n",
    "\n",
    "from tqdm import tqdm_notebook\n",
    "edges = []\n",
    "dists = []\n",
    "ID = []\n",
    "times = []\n",
    "classess = []\n",
    "\n",
    "for i in tqdm_notebook(range(0,  int(max(df_full['ID'])+1))):\n",
    "    namelist = df_full.name_50[i]\n",
    "    distlist = df_full.dist_50[i]\n",
    "\n",
    "    for n in range(0,50):\n",
    "        ID.append(df_full.ID[i])\n",
    "        times.append(df_full.time[i])\n",
    "        edges.append(namelist[n])\n",
    "        dists.append(distlist[n])\n",
    "        classess.append(df_full['class'][i])\n",
    "\n",
    "df_edges = pd.DataFrame(list(zip(ID, times, edges, dists, classess)),\n",
    "               columns =['ID', 'time', 'edges', 'dists', 'class'])"
   ]
  },
  {
   "cell_type": "code",
   "execution_count": 18,
   "metadata": {
    "pycharm": {
     "name": "#%%\n"
    }
   },
   "outputs": [],
   "source": [
    "#save edges dataset\n",
    "df_full.to_csv('../data/data_nodes_hnsw.csv')\n",
    "df_edges.to_csv('../data/data_edges_hnsw.csv')"
   ]
  },
  {
   "cell_type": "code",
   "execution_count": 2,
   "metadata": {
    "pycharm": {
     "name": "#%%\n"
    }
   },
   "outputs": [
    {
     "name": "stderr",
     "output_type": "stream",
     "text": [
      "C:\\Users\\joost\\AppData\\Local\\Temp\\ipykernel_17916\\937332648.py:3: TqdmDeprecationWarning: This function will be removed in tqdm==5.0.0\n",
      "Please use `tqdm.notebook.tqdm` instead of `tqdm.tqdm_notebook`\n",
      "  for t in tqdm_notebook(range(44,48)):\n"
     ]
    },
    {
     "data": {
      "application/vnd.jupyter.widget-view+json": {
       "model_id": "c1163f34088149568f64e8cac460a59a",
       "version_major": 2,
       "version_minor": 0
      },
      "text/plain": [
       "  0%|          | 0/4 [00:00<?, ?it/s]"
      ]
     },
     "metadata": {},
     "output_type": "display_data"
    }
   ],
   "source": [
    "#make edge dataset into a network, then convert it into a pickle for quick loading later\n",
    "df = pd.read_csv(\"../data/data_edges_hnsw.csv\")\n",
    "for t in tqdm_notebook(range(0,48)):\n",
    "  df_temp = df[df['time'] <= t]\n",
    "  g_temp = nx.from_pandas_edgelist(df_temp, 'ID', 'edges', ['ID', 'time', 'dists'], create_using=nx.DiGraph())\n",
    "  nx.write_gpickle(g_temp, \"../data/pickles2/myGraph\" + str(t) + \".gpickle\")\n",
    "  del df_temp\n",
    "  del g_temp\n",
    "  gc.collect()"
   ]
  },
  {
   "cell_type": "code",
   "execution_count": null,
   "metadata": {
    "pycharm": {
     "name": "#%%\n"
    }
   },
   "outputs": [],
   "source": []
  }
 ],
 "metadata": {
  "kernelspec": {
   "display_name": "Python 3 (ipykernel)",
   "language": "python",
   "name": "python3"
  },
  "language_info": {
   "codemirror_mode": {
    "name": "ipython",
    "version": 3
   },
   "file_extension": ".py",
   "mimetype": "text/x-python",
   "name": "python",
   "nbconvert_exporter": "python",
   "pygments_lexer": "ipython3",
   "version": "3.9.10+"
  }
 },
 "nbformat": 4,
 "nbformat_minor": 1
}
