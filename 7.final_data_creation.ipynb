{
 "cells": [
  {
   "cell_type": "code",
   "execution_count": 1,
   "metadata": {
    "collapsed": true,
    "pycharm": {
     "name": "#%%\n"
    }
   },
   "outputs": [],
   "source": [
    "import pandas as pd\n",
    "import numpy as np\n"
   ]
  },
  {
   "cell_type": "markdown",
   "metadata": {
    "pycharm": {
     "name": "#%% md\n"
    }
   },
   "source": [
    "## Variable 1"
   ]
  },
  {
   "cell_type": "code",
   "execution_count": 3,
   "metadata": {
    "pycharm": {
     "name": "#%%\n"
    }
   },
   "outputs": [],
   "source": [
    "cc = pd.read_csv('../data/creditcard.csv')\n",
    "cc.tail()\n",
    "cc['Timehours'] = np.floor(cc['Time'] / (60*60))"
   ]
  },
  {
   "cell_type": "code",
   "execution_count": 3,
   "metadata": {
    "pycharm": {
     "name": "#%%\n"
    }
   },
   "outputs": [],
   "source": [
    "data_var_1 = pd.read_csv('../data/df_indegrees_hnsw.csv')\n",
    "data_var_1 = data_var_1.drop(['Unnamed: 0'], axis=1)\n",
    "data_var_1['totalpersteps'] = data_var_1['47'] / (48 - cc['Timehours'])"
   ]
  },
  {
   "cell_type": "code",
   "execution_count": 4,
   "metadata": {
    "pycharm": {
     "name": "#%%\n"
    }
   },
   "outputs": [],
   "source": [
    "data_var_1_cc = cc.copy()\n",
    "data_var_1_cc['totalperstep'] = data_var_1['totalpersteps']\n",
    "data_var_1_cc = data_var_1_cc.drop(['Timehours'], axis=1)\n",
    "data_var_1_cc.to_csv('../data/final_data/creditcard_v1.csv', index=False)"
   ]
  },
  {
   "cell_type": "markdown",
   "metadata": {
    "pycharm": {
     "name": "#%% md\n"
    }
   },
   "source": [
    "## Variable 2"
   ]
  },
  {
   "cell_type": "code",
   "execution_count": 8,
   "metadata": {
    "pycharm": {
     "name": "#%%\n"
    }
   },
   "outputs": [],
   "source": [
    "df_indegrees = pd.read_csv('../data/df_indegrees_hnsw.csv')\n",
    "df_indegrees = df_indegrees.drop(['Unnamed: 0'], axis=1)\n",
    "\n",
    "listy = []\n",
    "for t in range(0, 48):\n",
    "    if t == 0:\n",
    "        temp = df_indegrees[str(t)].iloc[ 0    :   (df_indegrees['0'].notna()[::-1].idxmax()+1)]\n",
    "\n",
    "    if t > 0:\n",
    "        temp  = df_indegrees[str(t)].iloc[ (df_indegrees[str(t-1)].notna()[::-1].idxmax()+1)    :   (df_indegrees[str(t)].notna()[::-1].idxmax()+1)]\n",
    "\n",
    "    temp = temp.rank(pct=True)\n",
    "\n",
    "    listy.append(temp)\n",
    "\n",
    "df_indegrees_pct_birth = pd.concat(listy)"
   ]
  },
  {
   "cell_type": "code",
   "execution_count": 9,
   "metadata": {
    "pycharm": {
     "name": "#%%\n"
    }
   },
   "outputs": [],
   "source": [
    "data_var_2_cc = cc.copy()\n",
    "data_var_2_cc['indegree_pct_birth'] = df_indegrees_pct_birth\n",
    "data_var_2_cc = data_var_2_cc.drop(['Timehours'], axis=1)\n",
    "data_var_2_cc.to_csv('../data/final_data/creditcard_v2.csv', index=False)"
   ]
  },
  {
   "cell_type": "markdown",
   "metadata": {
    "pycharm": {
     "name": "#%% md\n"
    }
   },
   "source": [
    "## Variable 3"
   ]
  },
  {
   "cell_type": "code",
   "execution_count": 10,
   "metadata": {
    "pycharm": {
     "name": "#%%\n"
    }
   },
   "outputs": [],
   "source": [
    "df_indegrees = pd.read_csv('../data/df_indegrees_hnsw.csv')\n",
    "df_indegrees = df_indegrees.drop(['Unnamed: 0'], axis=1)\n",
    "\n",
    "listy = []\n",
    "for t in range(0, 48):\n",
    "    if t == 0:\n",
    "        temp = df_indegrees[str(47)].iloc[ 0    :   (df_indegrees['0'].notna()[::-1].idxmax()+1)]\n",
    "\n",
    "    if t > 0:\n",
    "        temp  = df_indegrees[str(47)].iloc[ (df_indegrees[str(t-1)].notna()[::-1].idxmax()+1)    :   (df_indegrees[str(t)].notna()[::-1].idxmax()+1)]\n",
    "\n",
    "    temp = temp.rank(pct=True)\n",
    "\n",
    "    listy.append(temp)\n",
    "\n",
    "df_indegrees_pct_final = pd.concat(listy)"
   ]
  },
  {
   "cell_type": "code",
   "execution_count": 15,
   "metadata": {
    "pycharm": {
     "name": "#%%\n"
    }
   },
   "outputs": [],
   "source": [
    "data_var_3_cc = cc.copy()\n",
    "data_var_3_cc['indegree_pct_final'] = df_indegrees_pct_final\n",
    "data_var_3_cc = data_var_3_cc.drop(['Timehours'], axis=1)\n",
    "data_var_3_cc.to_csv('../data/final_data/creditcard_v3.csv', index=False)"
   ]
  },
  {
   "cell_type": "markdown",
   "metadata": {
    "pycharm": {
     "name": "#%% md\n"
    }
   },
   "source": [
    "## Variable 4"
   ]
  },
  {
   "cell_type": "code",
   "execution_count": 12,
   "metadata": {
    "pycharm": {
     "name": "#%%\n"
    }
   },
   "outputs": [],
   "source": [
    "df_pagerank_norm = pd.read_csv('../data/df_pagerank_i10000a09_hnsw.csv')\n",
    "final_score_pagerank = df_pagerank_norm['47']"
   ]
  },
  {
   "cell_type": "code",
   "execution_count": 16,
   "metadata": {
    "pycharm": {
     "name": "#%%\n"
    }
   },
   "outputs": [],
   "source": [
    "data_var_4_cc = cc.copy()\n",
    "data_var_4_cc['final_pagerank_score'] = final_score_pagerank\n",
    "data_var_4_cc = data_var_4_cc.drop(['Timehours'], axis=1)\n",
    "data_var_4_cc.to_csv('../data/final_data/creditcard_v4.csv', index=False)"
   ]
  },
  {
   "cell_type": "markdown",
   "metadata": {
    "pycharm": {
     "name": "#%% md\n"
    }
   },
   "source": [
    "## Variable 5\n"
   ]
  },
  {
   "cell_type": "code",
   "execution_count": 4,
   "metadata": {
    "pycharm": {
     "name": "#%%\n"
    }
   },
   "outputs": [],
   "source": [
    "df_pagerank_pers_t1 = pd.read_csv('../data/df_pagerank_pers_i10000a09t-1_hnsw.csv')\n",
    "df_pagerank_pers_t1 = df_pagerank_pers_t1.drop(['Unnamed: 0'], axis=1)"
   ]
  },
  {
   "cell_type": "code",
   "execution_count": 8,
   "metadata": {
    "pycharm": {
     "name": "#%%\n"
    }
   },
   "outputs": [
    {
     "data": {
      "image/png": "[encoded data removed]",
      "text/plain": [
       "<Figure size 1440x576 with 1 Axes>"
      ]
     },
     "metadata": {
      "needs_background": "light"
     },
     "output_type": "display_data"
    }
   ],
   "source": [
    "from scipy.stats import ttest_ind\n",
    "import pandas as pd\n",
    "import numpy as np\n",
    "from matplotlib import rcParams\n",
    "import matplotlib.pyplot as plt\n",
    "import seaborn as sns\n",
    "from scipy.stats import ttest_ind\n",
    "import scipy.stats as stats\n",
    "df_pagerank = df_pagerank_pers_t1\n",
    "df_pagerank['class'] = cc.Class\n",
    "df_pagerank_long = pd.melt(df_pagerank, \"class\")\n",
    "#df_pagerank_long['value'] = np.log(df_pagerank_long.value)\n",
    "\n",
    "tests_pagerank =[]\n",
    "\n",
    "df_pagerank_fraud = df_pagerank[df_pagerank['class'] == 1]\n",
    "df_pagerank_norm = df_pagerank[df_pagerank['class'] == 0]\n",
    "for t in range(0,48):\n",
    "    tests_pagerank.append(ttest_ind(df_pagerank_fraud.iloc[:,t], df_pagerank_norm.iloc[:,t], nan_policy='omit'))\n",
    "\n",
    "\n",
    "\n",
    "rcParams['figure.figsize'] = 20,8\n",
    "fig, ax = plt.subplots()\n",
    "ax = sns.boxplot(x=\"variable\", hue=\"class\", y=\"value\", data=df_pagerank_long)\n",
    "\n",
    "figure = ax.get_figure()\n",
    "plt.legend(labels=[\"Normal\",\"Fraud\"], title=\"Type of transaction\", fancybox=True)\n",
    "ax.set(xlabel='Time steps passed', ylabel='Log of PageRank score')\n",
    "\n",
    "leg = ax.get_legend()\n",
    "leg.legendHandles[1].set_color('orange')\n",
    "\n",
    "\n",
    "for t in range(0,48):\n",
    "    if tests_pagerank[t][1] < 0.05:\n",
    "        plt.axvspan(t-0.5, t+0.5, facecolor='b', alpha=0.3)\n",
    "\n",
    "#plt.savefig('../figs/boxplot_PageRank_total.jpg',bbox_inches='tight')"
   ]
  },
  {
   "cell_type": "code",
   "execution_count": 11,
   "metadata": {
    "pycharm": {
     "name": "#%%\n"
    }
   },
   "outputs": [
    {
     "data": {
      "text/html": [
       "<div>\n",
       "<style scoped>\n",
       "    .dataframe tbody tr th:only-of-type {\n",
       "        vertical-align: middle;\n",
       "    }\n",
       "\n",
       "    .dataframe tbody tr th {\n",
       "        vertical-align: top;\n",
       "    }\n",
       "\n",
       "    .dataframe thead th {\n",
       "        text-align: right;\n",
       "    }\n",
       "</style>\n",
       "<table border=\"1\" class=\"dataframe\">\n",
       "  <thead>\n",
       "    <tr style=\"text-align: right;\">\n",
       "      <th></th>\n",
       "      <th>1</th>\n",
       "      <th>2</th>\n",
       "      <th>3</th>\n",
       "      <th>4</th>\n",
       "      <th>5</th>\n",
       "      <th>6</th>\n",
       "      <th>7</th>\n",
       "      <th>8</th>\n",
       "      <th>9</th>\n",
       "      <th>10</th>\n",
       "      <th>...</th>\n",
       "      <th>39</th>\n",
       "      <th>40</th>\n",
       "      <th>41</th>\n",
       "      <th>42</th>\n",
       "      <th>43</th>\n",
       "      <th>44</th>\n",
       "      <th>45</th>\n",
       "      <th>46</th>\n",
       "      <th>47</th>\n",
       "      <th>class</th>\n",
       "    </tr>\n",
       "  </thead>\n",
       "  <tbody>\n",
       "    <tr>\n",
       "      <th>541</th>\n",
       "      <td>0.050005</td>\n",
       "      <td>2.566065e-02</td>\n",
       "      <td>0.005406</td>\n",
       "      <td>0.004500</td>\n",
       "      <td>0.004097</td>\n",
       "      <td>0.003627</td>\n",
       "      <td>0.003510</td>\n",
       "      <td>0.002947</td>\n",
       "      <td>0.002816</td>\n",
       "      <td>0.002642</td>\n",
       "      <td>...</td>\n",
       "      <td>0.001882</td>\n",
       "      <td>0.001882</td>\n",
       "      <td>0.001884</td>\n",
       "      <td>0.001886</td>\n",
       "      <td>0.001647</td>\n",
       "      <td>0.001637</td>\n",
       "      <td>0.001639</td>\n",
       "      <td>1.635067e-03</td>\n",
       "      <td>1.633471e-03</td>\n",
       "      <td>1</td>\n",
       "    </tr>\n",
       "    <tr>\n",
       "      <th>623</th>\n",
       "      <td>0.050138</td>\n",
       "      <td>2.506912e-02</td>\n",
       "      <td>0.004013</td>\n",
       "      <td>0.002641</td>\n",
       "      <td>0.002281</td>\n",
       "      <td>0.001825</td>\n",
       "      <td>0.001730</td>\n",
       "      <td>0.001239</td>\n",
       "      <td>0.001167</td>\n",
       "      <td>0.000994</td>\n",
       "      <td>...</td>\n",
       "      <td>0.000261</td>\n",
       "      <td>0.000254</td>\n",
       "      <td>0.000249</td>\n",
       "      <td>0.000240</td>\n",
       "      <td>0.000232</td>\n",
       "      <td>0.000227</td>\n",
       "      <td>0.000222</td>\n",
       "      <td>2.211375e-04</td>\n",
       "      <td>2.185613e-04</td>\n",
       "      <td>1</td>\n",
       "    </tr>\n",
       "    <tr>\n",
       "      <th>4920</th>\n",
       "      <td>0.000000</td>\n",
       "      <td>2.519403e-02</td>\n",
       "      <td>0.005420</td>\n",
       "      <td>0.004391</td>\n",
       "      <td>0.003990</td>\n",
       "      <td>0.003563</td>\n",
       "      <td>0.003452</td>\n",
       "      <td>0.002928</td>\n",
       "      <td>0.002786</td>\n",
       "      <td>0.002624</td>\n",
       "      <td>...</td>\n",
       "      <td>0.001645</td>\n",
       "      <td>0.001632</td>\n",
       "      <td>0.001624</td>\n",
       "      <td>0.001604</td>\n",
       "      <td>0.001349</td>\n",
       "      <td>0.001328</td>\n",
       "      <td>0.001317</td>\n",
       "      <td>1.313744e-03</td>\n",
       "      <td>1.306070e-03</td>\n",
       "      <td>1</td>\n",
       "    </tr>\n",
       "    <tr>\n",
       "      <th>6108</th>\n",
       "      <td>0.000000</td>\n",
       "      <td>2.500000e-02</td>\n",
       "      <td>0.004897</td>\n",
       "      <td>0.003600</td>\n",
       "      <td>0.003197</td>\n",
       "      <td>0.003451</td>\n",
       "      <td>0.003353</td>\n",
       "      <td>0.003383</td>\n",
       "      <td>0.003192</td>\n",
       "      <td>0.003008</td>\n",
       "      <td>...</td>\n",
       "      <td>0.001814</td>\n",
       "      <td>0.001773</td>\n",
       "      <td>0.001749</td>\n",
       "      <td>0.001700</td>\n",
       "      <td>0.001445</td>\n",
       "      <td>0.001414</td>\n",
       "      <td>0.001391</td>\n",
       "      <td>1.386759e-03</td>\n",
       "      <td>1.370589e-03</td>\n",
       "      <td>1</td>\n",
       "    </tr>\n",
       "    <tr>\n",
       "      <th>6329</th>\n",
       "      <td>NaN</td>\n",
       "      <td>1.145800e-23</td>\n",
       "      <td>0.004812</td>\n",
       "      <td>0.003945</td>\n",
       "      <td>0.003437</td>\n",
       "      <td>0.002967</td>\n",
       "      <td>0.002857</td>\n",
       "      <td>0.002273</td>\n",
       "      <td>0.002183</td>\n",
       "      <td>0.001914</td>\n",
       "      <td>...</td>\n",
       "      <td>0.000714</td>\n",
       "      <td>0.000696</td>\n",
       "      <td>0.000688</td>\n",
       "      <td>0.000672</td>\n",
       "      <td>0.000569</td>\n",
       "      <td>0.000564</td>\n",
       "      <td>0.000557</td>\n",
       "      <td>5.547335e-04</td>\n",
       "      <td>5.479349e-04</td>\n",
       "      <td>1</td>\n",
       "    </tr>\n",
       "    <tr>\n",
       "      <th>...</th>\n",
       "      <td>...</td>\n",
       "      <td>...</td>\n",
       "      <td>...</td>\n",
       "      <td>...</td>\n",
       "      <td>...</td>\n",
       "      <td>...</td>\n",
       "      <td>...</td>\n",
       "      <td>...</td>\n",
       "      <td>...</td>\n",
       "      <td>...</td>\n",
       "      <td>...</td>\n",
       "      <td>...</td>\n",
       "      <td>...</td>\n",
       "      <td>...</td>\n",
       "      <td>...</td>\n",
       "      <td>...</td>\n",
       "      <td>...</td>\n",
       "      <td>...</td>\n",
       "      <td>...</td>\n",
       "      <td>...</td>\n",
       "      <td>...</td>\n",
       "    </tr>\n",
       "    <tr>\n",
       "      <th>279863</th>\n",
       "      <td>NaN</td>\n",
       "      <td>NaN</td>\n",
       "      <td>NaN</td>\n",
       "      <td>NaN</td>\n",
       "      <td>NaN</td>\n",
       "      <td>NaN</td>\n",
       "      <td>NaN</td>\n",
       "      <td>NaN</td>\n",
       "      <td>NaN</td>\n",
       "      <td>NaN</td>\n",
       "      <td>...</td>\n",
       "      <td>NaN</td>\n",
       "      <td>NaN</td>\n",
       "      <td>NaN</td>\n",
       "      <td>NaN</td>\n",
       "      <td>NaN</td>\n",
       "      <td>NaN</td>\n",
       "      <td>NaN</td>\n",
       "      <td>2.624090e-12</td>\n",
       "      <td>2.087960e-04</td>\n",
       "      <td>1</td>\n",
       "    </tr>\n",
       "    <tr>\n",
       "      <th>280143</th>\n",
       "      <td>NaN</td>\n",
       "      <td>NaN</td>\n",
       "      <td>NaN</td>\n",
       "      <td>NaN</td>\n",
       "      <td>NaN</td>\n",
       "      <td>NaN</td>\n",
       "      <td>NaN</td>\n",
       "      <td>NaN</td>\n",
       "      <td>NaN</td>\n",
       "      <td>NaN</td>\n",
       "      <td>...</td>\n",
       "      <td>NaN</td>\n",
       "      <td>NaN</td>\n",
       "      <td>NaN</td>\n",
       "      <td>NaN</td>\n",
       "      <td>NaN</td>\n",
       "      <td>NaN</td>\n",
       "      <td>NaN</td>\n",
       "      <td>NaN</td>\n",
       "      <td>2.409626e-12</td>\n",
       "      <td>1</td>\n",
       "    </tr>\n",
       "    <tr>\n",
       "      <th>280149</th>\n",
       "      <td>NaN</td>\n",
       "      <td>NaN</td>\n",
       "      <td>NaN</td>\n",
       "      <td>NaN</td>\n",
       "      <td>NaN</td>\n",
       "      <td>NaN</td>\n",
       "      <td>NaN</td>\n",
       "      <td>NaN</td>\n",
       "      <td>NaN</td>\n",
       "      <td>NaN</td>\n",
       "      <td>...</td>\n",
       "      <td>NaN</td>\n",
       "      <td>NaN</td>\n",
       "      <td>NaN</td>\n",
       "      <td>NaN</td>\n",
       "      <td>NaN</td>\n",
       "      <td>NaN</td>\n",
       "      <td>NaN</td>\n",
       "      <td>NaN</td>\n",
       "      <td>1.925426e-12</td>\n",
       "      <td>1</td>\n",
       "    </tr>\n",
       "    <tr>\n",
       "      <th>281144</th>\n",
       "      <td>NaN</td>\n",
       "      <td>NaN</td>\n",
       "      <td>NaN</td>\n",
       "      <td>NaN</td>\n",
       "      <td>NaN</td>\n",
       "      <td>NaN</td>\n",
       "      <td>NaN</td>\n",
       "      <td>NaN</td>\n",
       "      <td>NaN</td>\n",
       "      <td>NaN</td>\n",
       "      <td>...</td>\n",
       "      <td>NaN</td>\n",
       "      <td>NaN</td>\n",
       "      <td>NaN</td>\n",
       "      <td>NaN</td>\n",
       "      <td>NaN</td>\n",
       "      <td>NaN</td>\n",
       "      <td>NaN</td>\n",
       "      <td>NaN</td>\n",
       "      <td>2.904143e-12</td>\n",
       "      <td>1</td>\n",
       "    </tr>\n",
       "    <tr>\n",
       "      <th>281674</th>\n",
       "      <td>NaN</td>\n",
       "      <td>NaN</td>\n",
       "      <td>NaN</td>\n",
       "      <td>NaN</td>\n",
       "      <td>NaN</td>\n",
       "      <td>NaN</td>\n",
       "      <td>NaN</td>\n",
       "      <td>NaN</td>\n",
       "      <td>NaN</td>\n",
       "      <td>NaN</td>\n",
       "      <td>...</td>\n",
       "      <td>NaN</td>\n",
       "      <td>NaN</td>\n",
       "      <td>NaN</td>\n",
       "      <td>NaN</td>\n",
       "      <td>NaN</td>\n",
       "      <td>NaN</td>\n",
       "      <td>NaN</td>\n",
       "      <td>NaN</td>\n",
       "      <td>0.000000e+00</td>\n",
       "      <td>1</td>\n",
       "    </tr>\n",
       "  </tbody>\n",
       "</table>\n",
       "<p>492 rows × 48 columns</p>\n",
       "</div>"
      ],
      "text/plain": [
       "               1             2         3         4         5         6  \\\n",
       "541     0.050005  2.566065e-02  0.005406  0.004500  0.004097  0.003627   \n",
       "623     0.050138  2.506912e-02  0.004013  0.002641  0.002281  0.001825   \n",
       "4920    0.000000  2.519403e-02  0.005420  0.004391  0.003990  0.003563   \n",
       "6108    0.000000  2.500000e-02  0.004897  0.003600  0.003197  0.003451   \n",
       "6329         NaN  1.145800e-23  0.004812  0.003945  0.003437  0.002967   \n",
       "...          ...           ...       ...       ...       ...       ...   \n",
       "279863       NaN           NaN       NaN       NaN       NaN       NaN   \n",
       "280143       NaN           NaN       NaN       NaN       NaN       NaN   \n",
       "280149       NaN           NaN       NaN       NaN       NaN       NaN   \n",
       "281144       NaN           NaN       NaN       NaN       NaN       NaN   \n",
       "281674       NaN           NaN       NaN       NaN       NaN       NaN   \n",
       "\n",
       "               7         8         9        10  ...        39        40  \\\n",
       "541     0.003510  0.002947  0.002816  0.002642  ...  0.001882  0.001882   \n",
       "623     0.001730  0.001239  0.001167  0.000994  ...  0.000261  0.000254   \n",
       "4920    0.003452  0.002928  0.002786  0.002624  ...  0.001645  0.001632   \n",
       "6108    0.003353  0.003383  0.003192  0.003008  ...  0.001814  0.001773   \n",
       "6329    0.002857  0.002273  0.002183  0.001914  ...  0.000714  0.000696   \n",
       "...          ...       ...       ...       ...  ...       ...       ...   \n",
       "279863       NaN       NaN       NaN       NaN  ...       NaN       NaN   \n",
       "280143       NaN       NaN       NaN       NaN  ...       NaN       NaN   \n",
       "280149       NaN       NaN       NaN       NaN  ...       NaN       NaN   \n",
       "281144       NaN       NaN       NaN       NaN  ...       NaN       NaN   \n",
       "281674       NaN       NaN       NaN       NaN  ...       NaN       NaN   \n",
       "\n",
       "              41        42        43        44        45            46  \\\n",
       "541     0.001884  0.001886  0.001647  0.001637  0.001639  1.635067e-03   \n",
       "623     0.000249  0.000240  0.000232  0.000227  0.000222  2.211375e-04   \n",
       "4920    0.001624  0.001604  0.001349  0.001328  0.001317  1.313744e-03   \n",
       "6108    0.001749  0.001700  0.001445  0.001414  0.001391  1.386759e-03   \n",
       "6329    0.000688  0.000672  0.000569  0.000564  0.000557  5.547335e-04   \n",
       "...          ...       ...       ...       ...       ...           ...   \n",
       "279863       NaN       NaN       NaN       NaN       NaN  2.624090e-12   \n",
       "280143       NaN       NaN       NaN       NaN       NaN           NaN   \n",
       "280149       NaN       NaN       NaN       NaN       NaN           NaN   \n",
       "281144       NaN       NaN       NaN       NaN       NaN           NaN   \n",
       "281674       NaN       NaN       NaN       NaN       NaN           NaN   \n",
       "\n",
       "                  47  class  \n",
       "541     1.633471e-03      1  \n",
       "623     2.185613e-04      1  \n",
       "4920    1.306070e-03      1  \n",
       "6108    1.370589e-03      1  \n",
       "6329    5.479349e-04      1  \n",
       "...              ...    ...  \n",
       "279863  2.087960e-04      1  \n",
       "280143  2.409626e-12      1  \n",
       "280149  1.925426e-12      1  \n",
       "281144  2.904143e-12      1  \n",
       "281674  0.000000e+00      1  \n",
       "\n",
       "[492 rows x 48 columns]"
      ]
     },
     "execution_count": 11,
     "metadata": {},
     "output_type": "execute_result"
    }
   ],
   "source": [
    "df_pagerank[df_pagerank['class']==1]"
   ]
  },
  {
   "cell_type": "code",
   "execution_count": 51,
   "metadata": {
    "pycharm": {
     "name": "#%%\n"
    }
   },
   "outputs": [],
   "source": [
    "listy = []\n",
    "for t in range(0, 48):\n",
    "    if t == 0:\n",
    "        temp = df_pagerank_pers_t1[str(1)].iloc[ 0    :   (df_indegrees['0'].notna()[::-1].idxmax()+1)]\n",
    "\n",
    "    if t > 0:\n",
    "        temp  = df_pagerank_pers_t1[str(t)].iloc[ (df_indegrees[str(t-1)].notna()[::-1].idxmax()+1)    :   (df_indegrees[str(t)].notna()[::-1].idxmax()+1)]\n",
    "\n",
    "    temp = temp.rank(pct=True)\n",
    "\n",
    "    listy.append(temp)\n",
    "\n",
    "df_pagerank_pers_batch = pd.concat(listy)"
   ]
  },
  {
   "cell_type": "code",
   "execution_count": 59,
   "metadata": {
    "pycharm": {
     "name": "#%%\n"
    }
   },
   "outputs": [
    {
     "data": {
      "text/plain": [
       "0         0.964421\n",
       "1         0.911178\n",
       "2         0.121120\n",
       "3         0.314661\n",
       "4         0.592480\n",
       "            ...   \n",
       "284802    0.996705\n",
       "284803    0.420511\n",
       "284804    0.391886\n",
       "284805    0.563015\n",
       "284806    0.448723\n",
       "Length: 284807, dtype: float64"
      ]
     },
     "execution_count": 59,
     "metadata": {},
     "output_type": "execute_result"
    }
   ],
   "source": [
    "df_pagerank_pers_batch"
   ]
  },
  {
   "cell_type": "code",
   "execution_count": 41,
   "metadata": {
    "pycharm": {
     "name": "#%%\n"
    }
   },
   "outputs": [],
   "source": [
    "data_var_5_cc = cc.copy()\n",
    "data_var_5_cc['page_pers_batch'] = df_pagerank_pers_batch\n",
    "data_var_5_cc = data_var_5_cc.drop(['Timehours'], axis=1)\n",
    "data_var_5_cc.to_csv('../data/final_data/creditcard_v5.csv', index=False)"
   ]
  },
  {
   "cell_type": "markdown",
   "metadata": {
    "pycharm": {
     "name": "#%% md\n"
    }
   },
   "source": [
    "## Variable 6"
   ]
  },
  {
   "cell_type": "code",
   "execution_count": 53,
   "metadata": {
    "pycharm": {
     "name": "#%%\n"
    }
   },
   "outputs": [],
   "source": [
    "df_pagerank_t1 = pd.read_csv('../data/df_pagerank_i10000a09t-1_hnsw.csv')\n",
    "df_pagerank_t1 = df_pagerank_t1.drop(['Unnamed: 0'], axis=1)"
   ]
  },
  {
   "cell_type": "code",
   "execution_count": 60,
   "metadata": {
    "pycharm": {
     "name": "#%%\n"
    }
   },
   "outputs": [],
   "source": [
    "listy = []\n",
    "for t in range(0, 48):\n",
    "    if t == 0:\n",
    "        temp = df_pagerank_t1[str(1)].iloc[ 0    :   (df_indegrees['0'].notna()[::-1].idxmax()+1)]\n",
    "\n",
    "    if t > 0:\n",
    "        temp  = df_pagerank_t1[str(t)].iloc[ (df_indegrees[str(t-1)].notna()[::-1].idxmax()+1)    :   (df_indegrees[str(t)].notna()[::-1].idxmax()+1)]\n",
    "\n",
    "    temp = temp.rank(pct=True)\n",
    "\n",
    "    listy.append(temp)\n",
    "\n",
    "df_pagerank_batch = pd.concat(listy)"
   ]
  },
  {
   "cell_type": "code",
   "execution_count": 65,
   "metadata": {
    "pycharm": {
     "name": "#%%\n"
    }
   },
   "outputs": [],
   "source": [
    "data_var_6_cc = cc.copy()\n",
    "data_var_6_cc['page_pers_batch'] = df_pagerank_batch\n",
    "data_var_6_cc = data_var_6_cc.drop(['Timehours'], axis=1)\n",
    "data_var_6_cc.to_csv('../data/final_data/creditcard_v6.csv', index=False)"
   ]
  }
 ],
 "metadata": {
  "kernelspec": {
   "display_name": "Python 3 (ipykernel)",
   "language": "python",
   "name": "python3"
  },
  "language_info": {
   "codemirror_mode": {
    "name": "ipython",
    "version": 3
   },
   "file_extension": ".py",
   "mimetype": "text/x-python",
   "name": "python",
   "nbconvert_exporter": "python",
   "pygments_lexer": "ipython3",
   "version": "3.9.10+"
  }
 },
 "nbformat": 4,
 "nbformat_minor": 1
}
