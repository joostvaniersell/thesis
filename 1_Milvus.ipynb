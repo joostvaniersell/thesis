{
 "cells": [
  {
   "cell_type": "code",
   "execution_count": 19,
   "metadata": {
    "jupyter": {
     "outputs_hidden": false
    },
    "pycharm": {
     "name": "#%%\n"
    }
   },
   "outputs": [],
   "source": [
    "import pandas as pd\n",
    "import numpy as np\n",
    "\n",
    "cc = pd.read_csv(\"../data/creditcard.csv\")\n",
    "cc = cc.drop([\"Class\"], axis=1)\n",
    "#cc = cc.drop([\"Class\", \"Amount\"], axis = 1)\n",
    "cc.tail()\n",
    "#cc.Time = np.floor(cc.index / 2848)\n",
    "cc.Time = np.floor(cc['Time'] / (60*60))"
   ]
  },
  {
   "cell_type": "code",
   "execution_count": 20,
   "metadata": {
    "pycharm": {
     "name": "#%%\n"
    }
   },
   "outputs": [],
   "source": [
    "from pymilvus import (\n",
    "    connections,\n",
    "    utility,\n",
    "    FieldSchema, CollectionSchema, DataType,\n",
    "    Collection,\n",
    ")\n",
    "connections.connect(\"default\", host=\"95.216.186.23\", port=\"19530\")"
   ]
  },
  {
   "cell_type": "code",
   "execution_count": 21,
   "metadata": {
    "pycharm": {
     "name": "#%%\n"
    }
   },
   "outputs": [],
   "source": [
    "\n",
    "\n",
    "transaction_id = FieldSchema(\n",
    "  name=\"transaction_id\",\n",
    "  dtype=DataType.INT64,\n",
    "  is_primary=True,\n",
    ")\n",
    "# transaction_amount = FieldSchema(\n",
    "#   name=\"transaction_amount\",\n",
    "#   dtype=DataType.FLOAT_VECTOR\n",
    "# )\n",
    "transaction_features = FieldSchema(\n",
    "  name=\"transaction_features\",\n",
    "  dtype=DataType.FLOAT_VECTOR,\n",
    "  dim=28\n",
    ")\n",
    "schema = CollectionSchema(\n",
    "  fields=[transaction_id, transaction_features],\n",
    "  description=\"Transaction Similarity Search\"\n",
    ")\n",
    "collection_name = \"transactions\""
   ]
  },
  {
   "cell_type": "code",
   "execution_count": 23,
   "metadata": {
    "pycharm": {
     "name": "#%%\n"
    }
   },
   "outputs": [],
   "source": [
    "collection = Collection(\n",
    "    name=collection_name,\n",
    "    schema=schema,\n",
    "    using='default',\n",
    "    shards_num=2,\n",
    "\n",
    "    consistency_level=\"Strong\"\n",
    ")"
   ]
  },
  {
   "cell_type": "code",
   "execution_count": 24,
   "metadata": {
    "pycharm": {
     "name": "#%%\n"
    }
   },
   "outputs": [
    {
     "data": {
      "text/plain": [
       "[]"
      ]
     },
     "execution_count": 24,
     "metadata": {},
     "output_type": "execute_result"
    }
   ],
   "source": [
    "utility.has_collection(\"transactions\")\n",
    "#utility.drop_collection(\"transactions\")\n",
    "utility.list_collections()\n",
    "\n",
    "collection = Collection(\"transactions\")\n",
    "collection.load()\n",
    "\n",
    "collection.description\n",
    "collection.indexes\n"
   ]
  },
  {
   "cell_type": "code",
   "execution_count": 9,
   "metadata": {
    "pycharm": {
     "name": "#%%\n"
    }
   },
   "outputs": [],
   "source": [
    "# index = {\n",
    "#   \"metric_type\":\"IP\",\n",
    "#   \"index_type\":\"HNSW\",\n",
    "#   \"params\":{\"M\":16, \"efConstruction\":500}\n",
    "# }\n",
    "#\n",
    "# collection.create_index(\"transaction_features\", index)\n",
    "\n",
    "#search_params = {\"metric_type\": \"IP\", \"params\": {\"ef\": 10}}"
   ]
  },
  {
   "cell_type": "markdown",
   "metadata": {
    "pycharm": {
     "name": "#%% md\n"
    }
   },
   "source": [
    "# Define loop and data"
   ]
  },
  {
   "cell_type": "code",
   "execution_count": 25,
   "metadata": {
    "jupyter": {
     "outputs_hidden": false
    },
    "pycharm": {
     "name": "#%%\n"
    }
   },
   "outputs": [],
   "source": [
    "from sklearn.preprocessing import StandardScaler\n",
    "import time\n",
    "from tqdm import tqdm\n",
    "from tqdm.notebook import tqdm_notebook\n",
    "import gc\n",
    "\n",
    "\n",
    "pd.options.mode.chained_assignment = None\n",
    "\n",
    "start_time = time.time()\n",
    "\n",
    "#create empty lists to fill later\n",
    "# ids_10 = []\n",
    "# dists_10 = []\n",
    "ids_50 = []\n",
    "dists_50 = []\n",
    "\n",
    "index = {\n",
    "  \"metric_type\":\"L2\",\n",
    "  \"index_type\":\"HNSW\",\n",
    "  \"params\":{\"M\":16, \"efConstruction\":500}\n",
    "}\n",
    "search_params = {\"metric_type\": \"L2\", \"params\": {\"ef\": 64}}\n",
    "\n",
    "collection.create_index(\"transaction_features\", index)\n",
    "\n",
    "for t in tqdm_notebook(range(0, 48)):\n",
    "\n",
    "    transaction_id = FieldSchema(\n",
    "    name=\"transaction_id\",\n",
    "    dtype=DataType.INT64,\n",
    "    is_primary=True,\n",
    "    )\n",
    "    # transaction_amount = FieldSchema(\n",
    "    #   name=\"transaction_amount\",\n",
    "    #   dtype=DataType.FLOAT_VECTOR\n",
    "    # )\n",
    "    transaction_features = FieldSchema(\n",
    "      name=\"transaction_features\",\n",
    "      dtype=DataType.FLOAT_VECTOR,\n",
    "      dim=28\n",
    "    )\n",
    "    schema = CollectionSchema(\n",
    "      fields=[transaction_id, transaction_features],\n",
    "      description=\"Transaction Similarity Search\"\n",
    "    )\n",
    "    collection_name = \"transactions\"\n",
    "\n",
    "\n",
    "\n",
    "\n",
    "\n",
    "    collection = Collection(\n",
    "    name=collection_name,\n",
    "    schema=schema,\n",
    "    using='default',\n",
    "    shards_num=2,\n",
    "\n",
    "    consistency_level=\"Strong\"\n",
    "    )\n",
    "\n",
    "\n",
    "\n",
    "\n",
    "    utility.has_collection(\"transactions\")\n",
    "    #utility.drop_collection(\"transactions\")\n",
    "    utility.list_collections()\n",
    "\n",
    "    collection = Collection(\"transactions\")\n",
    "    collection.load()\n",
    "\n",
    "    collection.description\n",
    "    collection.indexes\n",
    "\n",
    "\n",
    "\n",
    "\n",
    "\n",
    "\n",
    "\n",
    "\n",
    "\n",
    "\n",
    "\n",
    "\n",
    "    #time.sleep(15)\n",
    "    start2 = time.time()\n",
    "    #filter data based on time\n",
    "    data = cc.loc[cc.Time <= t]\n",
    "\n",
    "    #use standardscalar on data\n",
    "    #data.iloc[:, 1:29] = StandardScaler().fit_transform(data.iloc[:, 1:29])\n",
    "\n",
    "    ######Define data for milvus\n",
    "    data_list = [data.index.tolist(), data.iloc[:, 1:29].values.tolist()]\n",
    "    collection = Collection(\"transactions\")\n",
    "    mr = collection.insert(data_list)\n",
    "\n",
    "    #create time index\n",
    "    start = cc.Time.searchsorted(t, side='left')\n",
    "\n",
    "\n",
    "\n",
    "\n",
    "    #50 !!!!\n",
    "    #####search collection from most alike features form milvus\n",
    "    # search_params = {\"metric_type\": \"IP\", \"params\": {\"ef\": 500}}\n",
    "    results_50 = collection.search(\n",
    "        data=data.iloc[:, 1:29].values.tolist(),\n",
    "        anns_field=\"transaction_features\",\n",
    "        param=search_params,\n",
    "        limit=50,\n",
    "        expr=None,\n",
    "        consistency_level=\"Strong\"\n",
    "    )\n",
    "\n",
    "    #Append only the new results\n",
    "    for i in range(start, len(results_50)):\n",
    "        ids_50.append(results_50[i].ids)\n",
    "        dists_50.append(results_50[i].distances)\n",
    "\n",
    "\n",
    "\n",
    "    # #256 #not used, too large\n",
    "    # search_params = {\"metric_type\": \"L2\", \"params\": {\"nprobe\": 256}}\n",
    "    # results_256 = collection.search(\n",
    "    #     data=data.iloc[:, 1:29].values.tolist(),\n",
    "    #     anns_field=\"transaction_features\",\n",
    "    #     param=search_params,\n",
    "    #     limit=256,\n",
    "    #     expr=None,\n",
    "    #     consistency_level=\"Strong\"\n",
    "    # )\n",
    "    #\n",
    "    # #Append only the new results\n",
    "    # for i in range(start, len(results_256)):\n",
    "    #     ids_256.append(results_256[i].ids)\n",
    "    #     dists_256.append(results_256[i].distances)\n",
    "    \n",
    "    \n",
    "    #manually delete things and call garbage collector, speed ups process significantly\n",
    "    del data\n",
    "    del data_list\n",
    "    del results_50\n",
    "    gc.collect()\n",
    "\n",
    "\n",
    "\n",
    "    utility.drop_collection(\"transactions\")\n",
    "\n",
    "\n",
    "\n",
    "    end2 = time.time()\n",
    "    print(f\"iteration {t} took: {end2 - start2}\")\n",
    "\n",
    "end = time.time()\n",
    "print(f\"Runtime: {end - start_time}\")"
   ]
  },
  {
   "cell_type": "code",
   "execution_count": 28,
   "metadata": {
    "pycharm": {
     "name": "#%%\n"
    }
   },
   "outputs": [],
   "source": [
    "df_2 = pd.DataFrame(list(zip(ids_50, dists_50)),\n",
    "               columns =['name_50', 'dist_50'])\n",
    "\n",
    "df_2.to_csv('../data/hnsw_server.csv')"
   ]
  },
  {
   "cell_type": "code",
   "execution_count": 27,
   "metadata": {
    "pycharm": {
     "name": "#%%\n"
    }
   },
   "outputs": [
    {
     "data": {
      "text/html": [
       "<div>\n",
       "<style scoped>\n",
       "    .dataframe tbody tr th:only-of-type {\n",
       "        vertical-align: middle;\n",
       "    }\n",
       "\n",
       "    .dataframe tbody tr th {\n",
       "        vertical-align: top;\n",
       "    }\n",
       "\n",
       "    .dataframe thead th {\n",
       "        text-align: right;\n",
       "    }\n",
       "</style>\n",
       "<table border=\"1\" class=\"dataframe\">\n",
       "  <thead>\n",
       "    <tr style=\"text-align: right;\">\n",
       "      <th></th>\n",
       "      <th>name_50</th>\n",
       "      <th>dist_50</th>\n",
       "    </tr>\n",
       "  </thead>\n",
       "  <tbody>\n",
       "    <tr>\n",
       "      <th>284802</th>\n",
       "      <td>[284802, 283911, 283158, 282467, 282496, 28245...</td>\n",
       "      <td>[0.0, 1.3466992378234863, 5.384416580200195, 8...</td>\n",
       "    </tr>\n",
       "    <tr>\n",
       "      <th>284803</th>\n",
       "      <td>[284803, 267639, 183512, 188104, 255345, 24610...</td>\n",
       "      <td>[0.0, 1.6716729402542114, 2.555665969848633, 3...</td>\n",
       "    </tr>\n",
       "    <tr>\n",
       "      <th>284804</th>\n",
       "      <td>[284804, 206752, 272604, 222084, 257755, 22623...</td>\n",
       "      <td>[0.0, 2.5649635517766e-06, 3.142173227388412e-...</td>\n",
       "    </tr>\n",
       "    <tr>\n",
       "      <th>284805</th>\n",
       "      <td>[284805, 262976, 278322, 228114, 282160, 25468...</td>\n",
       "      <td>[0.0, 1.4927024841308594, 1.96480393409729, 2....</td>\n",
       "    </tr>\n",
       "    <tr>\n",
       "      <th>284806</th>\n",
       "      <td>[284806, 232882, 278599, 196901, 242015, 19700...</td>\n",
       "      <td>[0.0, 2.449662208557129, 3.0682601928710938, 3...</td>\n",
       "    </tr>\n",
       "  </tbody>\n",
       "</table>\n",
       "</div>"
      ],
      "text/plain": [
       "                                               name_50     \\\n",
       "284802  [284802, 283911, 283158, 282467, 282496, 28245...   \n",
       "284803  [284803, 267639, 183512, 188104, 255345, 24610...   \n",
       "284804  [284804, 206752, 272604, 222084, 257755, 22623...   \n",
       "284805  [284805, 262976, 278322, 228114, 282160, 25468...   \n",
       "284806  [284806, 232882, 278599, 196901, 242015, 19700...   \n",
       "\n",
       "                                                  dist_50  \n",
       "284802  [0.0, 1.3466992378234863, 5.384416580200195, 8...  \n",
       "284803  [0.0, 1.6716729402542114, 2.555665969848633, 3...  \n",
       "284804  [0.0, 2.5649635517766e-06, 3.142173227388412e-...  \n",
       "284805  [0.0, 1.4927024841308594, 1.96480393409729, 2....  \n",
       "284806  [0.0, 2.449662208557129, 3.0682601928710938, 3...  "
      ]
     },
     "execution_count": 27,
     "metadata": {},
     "output_type": "execute_result"
    }
   ],
   "source": [
    "df_2.tail()"
   ]
  },
  {
   "cell_type": "raw",
   "metadata": {
    "pycharm": {
     "name": "#%% raw\n"
    }
   },
   "source": []
  },
  {
   "cell_type": "raw",
   "metadata": {
    "pycharm": {
     "name": "#%% raw\n"
    }
   },
   "source": []
  },
  {
   "cell_type": "raw",
   "metadata": {
    "pycharm": {
     "name": "#%% raw\n"
    }
   },
   "source": []
  },
  {
   "cell_type": "raw",
   "metadata": {
    "pycharm": {
     "name": "#%% raw\n"
    }
   },
   "source": []
  },
  {
   "cell_type": "raw",
   "metadata": {
    "pycharm": {
     "name": "#%% raw\n"
    }
   },
   "source": []
  },
  {
   "cell_type": "raw",
   "metadata": {
    "pycharm": {
     "name": "#%% raw\n"
    }
   },
   "source": []
  },
  {
   "cell_type": "raw",
   "metadata": {
    "pycharm": {
     "name": "#%% raw\n"
    }
   },
   "source": []
  },
  {
   "cell_type": "raw",
   "metadata": {
    "pycharm": {
     "name": "#%% raw\n"
    }
   },
   "source": []
  },
  {
   "cell_type": "raw",
   "metadata": {
    "pycharm": {
     "name": "#%% raw\n"
    }
   },
   "source": []
  },
  {
   "cell_type": "raw",
   "metadata": {
    "pycharm": {
     "name": "#%% raw\n"
    }
   },
   "source": []
  },
  {
   "cell_type": "raw",
   "metadata": {
    "pycharm": {
     "name": "#%% raw\n"
    }
   },
   "source": []
  },
  {
   "cell_type": "raw",
   "metadata": {
    "pycharm": {
     "name": "#%% raw\n"
    }
   },
   "source": []
  },
  {
   "cell_type": "raw",
   "metadata": {
    "pycharm": {
     "name": "#%% raw\n"
    }
   },
   "source": []
  },
  {
   "cell_type": "raw",
   "metadata": {
    "pycharm": {
     "name": "#%% raw\n"
    }
   },
   "source": [
    "collection.release()"
   ]
  }
 ],
 "metadata": {
  "kernelspec": {
   "display_name": "Python 3 (ipykernel)",
   "language": "python",
   "name": "python3"
  },
  "language_info": {
   "codemirror_mode": {
    "name": "ipython",
    "version": 3
   },
   "file_extension": ".py",
   "mimetype": "text/x-python",
   "name": "python",
   "nbconvert_exporter": "python",
   "pygments_lexer": "ipython3",
   "version": "3.9.10+"
  }
 },
 "nbformat": 4,
 "nbformat_minor": 4
}
